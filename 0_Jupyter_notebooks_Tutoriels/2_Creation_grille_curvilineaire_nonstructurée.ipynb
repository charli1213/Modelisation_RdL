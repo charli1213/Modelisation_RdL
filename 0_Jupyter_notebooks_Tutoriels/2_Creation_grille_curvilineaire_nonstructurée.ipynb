{
 "cells": [
  {
   "cell_type": "markdown",
   "id": "45333618",
   "metadata": {},
   "source": [
    "# Création d'une grille curvilinéaire non-structurée à l'aide du module Pygrid"
   ]
  },
  {
   "cell_type": "markdown",
   "id": "fcfa1bd3",
   "metadata": {},
   "source": [
    "### Importation des librairies"
   ]
  },
  {
   "cell_type": "code",
   "execution_count": 1,
   "id": "fe2b05a0",
   "metadata": {},
   "outputs": [
    {
     "ename": "ModuleNotFoundError",
     "evalue": "No module named 'pygridgen'",
     "output_type": "error",
     "traceback": [
      "\u001b[0;31m---------------------------------------------------------------------------\u001b[0m",
      "\u001b[0;31mModuleNotFoundError\u001b[0m                       Traceback (most recent call last)",
      "\u001b[0;32m/tmp/ipykernel_24541/2626687882.py\u001b[0m in \u001b[0;36m<module>\u001b[0;34m\u001b[0m\n\u001b[1;32m      1\u001b[0m \u001b[0;32mimport\u001b[0m \u001b[0mnumpy\u001b[0m \u001b[0;32mas\u001b[0m \u001b[0mnp\u001b[0m\u001b[0;34m\u001b[0m\u001b[0;34m\u001b[0m\u001b[0m\n\u001b[1;32m      2\u001b[0m \u001b[0;32mimport\u001b[0m \u001b[0mmatplotlib\u001b[0m\u001b[0;34m.\u001b[0m\u001b[0mpyplot\u001b[0m \u001b[0;32mas\u001b[0m \u001b[0mplt\u001b[0m\u001b[0;34m\u001b[0m\u001b[0;34m\u001b[0m\u001b[0m\n\u001b[0;32m----> 3\u001b[0;31m \u001b[0;32mimport\u001b[0m \u001b[0mpygridgen\u001b[0m\u001b[0;34m\u001b[0m\u001b[0;34m\u001b[0m\u001b[0m\n\u001b[0m",
      "\u001b[0;31mModuleNotFoundError\u001b[0m: No module named 'pygridgen'"
     ]
    }
   ],
   "source": [
    "import numpy as np\n",
    "import matplotlib.pyplot as plt\n",
    "import pygridgen"
   ]
  },
  {
   "cell_type": "markdown",
   "id": "25e7cffd",
   "metadata": {},
   "source": [
    "### On crée trois fonctions qui nous permettent de mieux extraire les données provenant des grilles curvilinéaires"
   ]
  },
  {
   "cell_type": "code",
   "execution_count": null,
   "id": "ec638ca1",
   "metadata": {},
   "outputs": [],
   "source": [
    "# Il serait possible d'importer ces fonctions, mais pour l'exercice,\n",
    "# je les laisse ici.\n",
    "\n",
    "def create_maps(xpos,ypos) :\n",
    "    \"\"\"Fonction qui utilise les positions (x,y) de chaque noeuds\n",
    "    pour créer un vecteur (carte/maps) qui associe chaque noeuds \n",
    "    à un nombre (INT). Le vecteur résultant possède la même forme\n",
    "    que les grilles entrantes.\"\"\"\n",
    "    \n",
    "    nx = xpos.shape[1]\n",
    "    ny = xpos.shape[0]\n",
    "    maps = np.zeros(xpos.shape)\n",
    "    inode = 0\n",
    "    for j in range(ny) :\n",
    "        for i in range(nx) :\n",
    "            maps[j,i] = int(inode)\n",
    "            inode += 1\n",
    "    return maps\n",
    "# -------------------------------\n",
    "\n",
    "\n",
    "# -------------------------------\n",
    "def get_mapping(maps, xpos, ypos) :\n",
    "    \"\"\"Fonction qui prend la carte (np.array) et les positions\n",
    "    (x,y) de chaque noeuds et retourne un dictionnaire avec\n",
    "    comme clef (keys) l'identifiant du noeuds et comme valeur\n",
    "    (value) un tuple de position (x,y)\"\"\"\n",
    "    \n",
    "    return {i:(j,k) for i,j,k in zip(maps.flatten(),\n",
    "                                     grid.x.flatten(),\n",
    "                                     grid.y.flatten())}\n",
    "# -------------------------------\n",
    "\n",
    "\n",
    "# -------------------------------\n",
    "def extract_shapes(maps) :\n",
    "    \"\"\"Fonction qui crée les quadrilatères à l'aide de la carte\n",
    "    précédente et retourne un np.array contenant toutes les\n",
    "    connections entre chaque noeuds (shapes).\"\"\"\n",
    "    \n",
    "    nx = maps.shape[1]\n",
    "    ny = maps.shape[0]\n",
    "    shapes = {}\n",
    "    ishape = 0\n",
    "    for j in range(ny-1) :\n",
    "        for i in range(nx-1) :\n",
    "            shapes[ishape] = [maps[j,i],\n",
    "                             maps[j,i+1],\n",
    "                             maps[j+1,i+1],\n",
    "                             maps[j+1,i]]\n",
    "            ishape += 1\n",
    "    return shapes\n",
    "# -------------------------------"
   ]
  },
  {
   "cell_type": "markdown",
   "id": "fbbb721a",
   "metadata": {},
   "source": [
    "### Création d'une grille avec une forme étrange"
   ]
  },
  {
   "cell_type": "code",
   "execution_count": null,
   "id": "06658169",
   "metadata": {},
   "outputs": [],
   "source": [
    "# On crée préalablement le contour de notre grille et on associe\n",
    "# un courbure (beta) à chacun de nos coins.\n",
    "x = np.array([0.5, 2.0, 3.5, 2.5, 1.5, 0.5]) \n",
    "y = np.array([0.5, 0.5, 1.0, 2.0, 2.0, 0.5])\n",
    "beta = np.array([1, 1, 0, 1, 1, 0])\n",
    "\n",
    "# beta = 1 => Coin vers l'intérieur\n",
    "# beta = 0 => Pas de courbure de grille\n",
    "# beta = -1 => Coin vers l'extérieur\n",
    "\n",
    "\n",
    "\n",
    "# Figure : \n",
    "fig, data_ax = plt.subplots(figsize=(8.5, 5), ncols=1)\n",
    "data_ax.grid()\n",
    "data_ax.fill(x,y,color='black', facecolor='aliceblue')\n",
    "data_ax.set_title(\"Illustration d'une forme arbitraire à remplir avec Pygrid.\")\n",
    "for ix,iy,ibeta in zip(x,y,beta) :\n",
    "    data_ax.annotate(r'$\\beta=${}'.format(int(ibeta)),\n",
    "                     (ix,iy), \n",
    "                     color='blue')\n",
    "data_ax.set_axisbelow(True)"
   ]
  },
  {
   "cell_type": "code",
   "execution_count": null,
   "id": "a9971810",
   "metadata": {},
   "outputs": [],
   "source": [
    "#  === création de la grille + extraction des données de grille : \n",
    "grid = pygridgen.Gridgen(x, y, beta, shape=(10, 10))\n",
    "maps = create_maps(grid.x,grid.y)\n",
    "mapping = get_mapping(maps, grid.x, grid.y)\n",
    "shapes = extract_shapes(maps)\n",
    "\n",
    "# === Création d'une figure === #\n",
    "fig, data_ax = plt.subplots(figsize=(8.5, 5), ncols=1)\n",
    "\n",
    "# Plotting each shapes :\n",
    "for values in shapes.values() :\n",
    "    # Getting positions of each nodes for each shapes\n",
    "    xquad = [mapping[inode][0] for inode in values]\n",
    "    yquad = [mapping[inode][1] for inode in values]\n",
    "    # Plotting shapes-frontiers : \n",
    "    data_ax.fill(xquad,yquad,\n",
    "                 color = 'black',\n",
    "                 linestyle = 'dotted',\n",
    "                 linewidth = 0.3,\n",
    "                 facecolor='aliceblue')\n",
    "    \n",
    "# Plotting each node numbers :\n",
    "for ix, iy, inode in zip(grid.x_rho.flatten(),\n",
    "                         grid.y_rho.flatten(),\n",
    "                         list(shapes.keys())) :\n",
    "    data_ax.annotate(int(inode),(ix,iy),\n",
    "                     ha='center',va='center',c='blue')\n",
    "\n",
    "# Plotting contours :\n",
    "data_ax.plot(x,y, c='black', label='Contours', linewidth = 1)\n",
    "\n",
    "\n",
    "# Figure fine-tunning: \n",
    "data_ax.set_axisbelow(True)\n",
    "data_ax.legend()\n",
    "data_ax.set_title(\"Application d'une grille sur une forme arbitraire.\")\n",
    "fig.tight_layout()\n",
    "#fig.show()"
   ]
  },
  {
   "cell_type": "markdown",
   "id": "b855a39f",
   "metadata": {},
   "source": [
    "# Application avec Xugrid"
   ]
  },
  {
   "cell_type": "code",
   "execution_count": null,
   "id": "b502216b",
   "metadata": {},
   "outputs": [],
   "source": [
    "# On importe les librairies : \n",
    "import xarray as xr\n",
    "import xugrid as xu\n",
    "\n",
    "# On crée une bathymétrie aléatoire pour illustrer le processus : \n",
    "bathymetrie = np.sin(grid.x)"
   ]
  },
  {
   "cell_type": "code",
   "execution_count": null,
   "id": "d77187ad",
   "metadata": {},
   "outputs": [],
   "source": [
    "# On crée le Dataset qui représente les noeuds : \n",
    "ds = xr.Dataset({'bathymetrie':(['node'],bathymetrie.flatten()),\n",
    "                'latitude':(['node'],grid.y.flatten()),\n",
    "                 'longitude':(['node'],grid.x.flatten()),\n",
    "                 'face_node_connectivity':(['face','nmax_face'],list(shapes.values())),\n",
    "                 'mesh2d':([''],[])})\n",
    "\n",
    "\n",
    "ds.face_node_connectivity.attrs = {'cf_role': 'face_node_connectivity',\n",
    "                                   'long_name': 'Vertex nodes of mesh faces (counterclockwise)',\n",
    "                                   'start_index': 0}\n",
    "\n",
    "\n",
    "ds.mesh2d.attrs = {'cf_role': 'mesh_topology',\n",
    "                   'long_name': 'Topology data of 2D mesh',\n",
    "                   'topology_dimension': 2,\n",
    "                   'node_coordinates': 'longitude latitude',\n",
    "                   'face_node_connectivity': 'face_node_connectivity',\n",
    "                   'edge_node_connectivity': 'edge_node_connectivity'}\n",
    "# On montre : \n",
    "ds\n"
   ]
  },
  {
   "cell_type": "code",
   "execution_count": null,
   "id": "3719f3b5",
   "metadata": {
    "scrolled": true
   },
   "outputs": [],
   "source": [
    "uds = xu.UgridDataset(ds)\n",
    "bathy = uds.bathymetrie\n",
    "\n",
    "# === création d'une figure === #\n",
    "bathy.ugrid.plot(cmap='viridis',figsize = (12, 5))\n",
    "bathy.ugrid.plot.line(color = 'black', linewidth = 0.7, linestyle = 'dashed', label = 'Grillage')\n",
    "plt.scatter(grid.x_rho,grid.y_rho,marker = 'D', c='black', label='Centroides')\n",
    "plt.legend()\n",
    "fig.tight_layout()\n",
    "#plt.ylabel('Position en y')\n",
    "#plt.xlabel('Position en x')\n",
    "#fig.show()"
   ]
  },
  {
   "cell_type": "code",
   "execution_count": null,
   "id": "dc25c0d1",
   "metadata": {},
   "outputs": [],
   "source": []
  }
 ],
 "metadata": {
  "kernelspec": {
   "display_name": "Python 3 (ipykernel)",
   "language": "python",
   "name": "python3"
  },
  "language_info": {
   "codemirror_mode": {
    "name": "ipython",
    "version": 3
   },
   "file_extension": ".py",
   "mimetype": "text/x-python",
   "name": "python",
   "nbconvert_exporter": "python",
   "pygments_lexer": "ipython3",
   "version": "3.9.12"
  }
 },
 "nbformat": 4,
 "nbformat_minor": 5
}
